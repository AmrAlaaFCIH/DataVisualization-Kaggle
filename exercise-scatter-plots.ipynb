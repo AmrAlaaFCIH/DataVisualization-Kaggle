{
 "cells": [
  {
   "cell_type": "markdown",
   "id": "de3b0074",
   "metadata": {
    "papermill": {
     "duration": 0.011162,
     "end_time": "2022-06-27T20:18:42.829265",
     "exception": false,
     "start_time": "2022-06-27T20:18:42.818103",
     "status": "completed"
    },
    "tags": []
   },
   "source": [
    "**This notebook is an exercise in the [Data Visualization](https://www.kaggle.com/learn/data-visualization) course.  You can reference the tutorial at [this link](https://www.kaggle.com/alexisbcook/scatter-plots).**\n",
    "\n",
    "---\n"
   ]
  },
  {
   "cell_type": "markdown",
   "id": "582e7923",
   "metadata": {
    "papermill": {
     "duration": 0.008951,
     "end_time": "2022-06-27T20:18:42.847821",
     "exception": false,
     "start_time": "2022-06-27T20:18:42.838870",
     "status": "completed"
    },
    "tags": []
   },
   "source": [
    "In this exercise, you will use your new knowledge to propose a solution to a real-world scenario.  To succeed, you will need to import data into Python, answer questions using the data, and generate **scatter plots** to understand patterns in the data.\n",
    "\n",
    "## Scenario\n",
    "\n",
    "You work for a major candy producer, and your goal is to write a report that your company can use to guide the design of its next product.  Soon after starting your research, you stumble across this [very interesting dataset](https://fivethirtyeight.com/features/the-ultimate-halloween-candy-power-ranking/) containing results from a fun survey to crowdsource favorite candies.\n",
    "\n",
    "## Setup\n",
    "\n",
    "Run the next cell to import and configure the Python libraries that you need to complete the exercise."
   ]
  },
  {
   "cell_type": "code",
   "execution_count": 1,
   "id": "8739686d",
   "metadata": {
    "execution": {
     "iopub.execute_input": "2022-06-27T20:18:42.868860Z",
     "iopub.status.busy": "2022-06-27T20:18:42.868380Z",
     "iopub.status.idle": "2022-06-27T20:18:43.987425Z",
     "shell.execute_reply": "2022-06-27T20:18:43.986235Z"
    },
    "papermill": {
     "duration": 1.132671,
     "end_time": "2022-06-27T20:18:43.989941",
     "exception": false,
     "start_time": "2022-06-27T20:18:42.857270",
     "status": "completed"
    },
    "tags": []
   },
   "outputs": [
    {
     "name": "stdout",
     "output_type": "stream",
     "text": [
      "Setup Complete\n"
     ]
    }
   ],
   "source": [
    "import pandas as pd\n",
    "pd.plotting.register_matplotlib_converters()\n",
    "import matplotlib.pyplot as plt\n",
    "%matplotlib inline\n",
    "import seaborn as sns\n",
    "print(\"Setup Complete\")"
   ]
  },
  {
   "cell_type": "markdown",
   "id": "2d5cf69c",
   "metadata": {
    "papermill": {
     "duration": 0.009428,
     "end_time": "2022-06-27T20:18:44.009469",
     "exception": false,
     "start_time": "2022-06-27T20:18:44.000041",
     "status": "completed"
    },
    "tags": []
   },
   "source": [
    "The questions below will give you feedback on your work. Run the following cell to set up our feedback system."
   ]
  },
  {
   "cell_type": "code",
   "execution_count": 2,
   "id": "8afb1427",
   "metadata": {
    "execution": {
     "iopub.execute_input": "2022-06-27T20:18:44.030989Z",
     "iopub.status.busy": "2022-06-27T20:18:44.030003Z",
     "iopub.status.idle": "2022-06-27T20:18:44.090961Z",
     "shell.execute_reply": "2022-06-27T20:18:44.089493Z"
    },
    "papermill": {
     "duration": 0.07432,
     "end_time": "2022-06-27T20:18:44.093510",
     "exception": false,
     "start_time": "2022-06-27T20:18:44.019190",
     "status": "completed"
    },
    "tags": []
   },
   "outputs": [
    {
     "name": "stdout",
     "output_type": "stream",
     "text": [
      "Setup Complete\n"
     ]
    }
   ],
   "source": [
    "# Set up code checking\n",
    "import os\n",
    "if not os.path.exists(\"../input/candy.csv\"):\n",
    "    os.symlink(\"../input/data-for-datavis/candy.csv\", \"../input/candy.csv\") \n",
    "from learntools.core import binder\n",
    "binder.bind(globals())\n",
    "from learntools.data_viz_to_coder.ex4 import *\n",
    "print(\"Setup Complete\")"
   ]
  },
  {
   "cell_type": "markdown",
   "id": "361c0e2b",
   "metadata": {
    "papermill": {
     "duration": 0.009135,
     "end_time": "2022-06-27T20:18:44.112255",
     "exception": false,
     "start_time": "2022-06-27T20:18:44.103120",
     "status": "completed"
    },
    "tags": []
   },
   "source": [
    "## Step 1: Load the Data\n",
    "\n",
    "Read the candy data file into `candy_data`.  Use the `\"id\"` column to label the rows."
   ]
  },
  {
   "cell_type": "code",
   "execution_count": 3,
   "id": "10b1b4a1",
   "metadata": {
    "execution": {
     "iopub.execute_input": "2022-06-27T20:18:44.133060Z",
     "iopub.status.busy": "2022-06-27T20:18:44.132663Z",
     "iopub.status.idle": "2022-06-27T20:18:44.148534Z",
     "shell.execute_reply": "2022-06-27T20:18:44.147359Z"
    },
    "papermill": {
     "duration": 0.029029,
     "end_time": "2022-06-27T20:18:44.150714",
     "exception": false,
     "start_time": "2022-06-27T20:18:44.121685",
     "status": "completed"
    },
    "tags": []
   },
   "outputs": [
    {
     "data": {
      "application/javascript": [
       "parent.postMessage({\"jupyterEvent\": \"custom.exercise_interaction\", \"data\": {\"outcomeType\": 1, \"valueTowardsCompletion\": 0.3333333333333333, \"interactionType\": 1, \"questionType\": 1, \"questionId\": \"1_LoadData\", \"learnToolsVersion\": \"0.3.4\", \"failureMessage\": \"\", \"exceptionClass\": \"\", \"trace\": \"\"}}, \"*\")"
      ],
      "text/plain": [
       "<IPython.core.display.Javascript object>"
      ]
     },
     "metadata": {},
     "output_type": "display_data"
    },
    {
     "data": {
      "text/markdown": [
       "<span style=\"color:#33cc33\">Correct</span>"
      ],
      "text/plain": [
       "Correct"
      ]
     },
     "metadata": {},
     "output_type": "display_data"
    }
   ],
   "source": [
    "# Path of the file to read\n",
    "candy_filepath = \"../input/candy.csv\"\n",
    "\n",
    "# Fill in the line below to read the file into a variable candy_data\n",
    "candy_data = pd.read_csv(candy_filepath,index_col=\"id\")\n",
    "\n",
    "# Run the line below with no changes to check that you've loaded the data correctly\n",
    "step_1.check()"
   ]
  },
  {
   "cell_type": "code",
   "execution_count": 4,
   "id": "42a0f90e",
   "metadata": {
    "execution": {
     "iopub.execute_input": "2022-06-27T20:18:44.172563Z",
     "iopub.status.busy": "2022-06-27T20:18:44.171393Z",
     "iopub.status.idle": "2022-06-27T20:18:44.176020Z",
     "shell.execute_reply": "2022-06-27T20:18:44.175133Z"
    },
    "papermill": {
     "duration": 0.017722,
     "end_time": "2022-06-27T20:18:44.178233",
     "exception": false,
     "start_time": "2022-06-27T20:18:44.160511",
     "status": "completed"
    },
    "tags": []
   },
   "outputs": [],
   "source": [
    "# Lines below will give you a hint or solution code\n",
    "#step_1.hint()\n",
    "#step_1.solution()"
   ]
  },
  {
   "cell_type": "markdown",
   "id": "29b51ad7",
   "metadata": {
    "papermill": {
     "duration": 0.009624,
     "end_time": "2022-06-27T20:18:44.198710",
     "exception": false,
     "start_time": "2022-06-27T20:18:44.189086",
     "status": "completed"
    },
    "tags": []
   },
   "source": [
    "## Step 2: Review the data\n",
    "\n",
    "Use a Python command to print the first five rows of the data."
   ]
  },
  {
   "cell_type": "code",
   "execution_count": 5,
   "id": "bd4a4d7a",
   "metadata": {
    "execution": {
     "iopub.execute_input": "2022-06-27T20:18:44.220646Z",
     "iopub.status.busy": "2022-06-27T20:18:44.219884Z",
     "iopub.status.idle": "2022-06-27T20:18:44.241679Z",
     "shell.execute_reply": "2022-06-27T20:18:44.240482Z"
    },
    "papermill": {
     "duration": 0.035496,
     "end_time": "2022-06-27T20:18:44.244130",
     "exception": false,
     "start_time": "2022-06-27T20:18:44.208634",
     "status": "completed"
    },
    "tags": []
   },
   "outputs": [
    {
     "data": {
      "text/html": [
       "<div>\n",
       "<style scoped>\n",
       "    .dataframe tbody tr th:only-of-type {\n",
       "        vertical-align: middle;\n",
       "    }\n",
       "\n",
       "    .dataframe tbody tr th {\n",
       "        vertical-align: top;\n",
       "    }\n",
       "\n",
       "    .dataframe thead th {\n",
       "        text-align: right;\n",
       "    }\n",
       "</style>\n",
       "<table border=\"1\" class=\"dataframe\">\n",
       "  <thead>\n",
       "    <tr style=\"text-align: right;\">\n",
       "      <th></th>\n",
       "      <th>competitorname</th>\n",
       "      <th>chocolate</th>\n",
       "      <th>fruity</th>\n",
       "      <th>caramel</th>\n",
       "      <th>peanutyalmondy</th>\n",
       "      <th>nougat</th>\n",
       "      <th>crispedricewafer</th>\n",
       "      <th>hard</th>\n",
       "      <th>bar</th>\n",
       "      <th>pluribus</th>\n",
       "      <th>sugarpercent</th>\n",
       "      <th>pricepercent</th>\n",
       "      <th>winpercent</th>\n",
       "    </tr>\n",
       "    <tr>\n",
       "      <th>id</th>\n",
       "      <th></th>\n",
       "      <th></th>\n",
       "      <th></th>\n",
       "      <th></th>\n",
       "      <th></th>\n",
       "      <th></th>\n",
       "      <th></th>\n",
       "      <th></th>\n",
       "      <th></th>\n",
       "      <th></th>\n",
       "      <th></th>\n",
       "      <th></th>\n",
       "      <th></th>\n",
       "    </tr>\n",
       "  </thead>\n",
       "  <tbody>\n",
       "    <tr>\n",
       "      <th>0</th>\n",
       "      <td>100 Grand</td>\n",
       "      <td>Yes</td>\n",
       "      <td>No</td>\n",
       "      <td>Yes</td>\n",
       "      <td>No</td>\n",
       "      <td>No</td>\n",
       "      <td>Yes</td>\n",
       "      <td>No</td>\n",
       "      <td>Yes</td>\n",
       "      <td>No</td>\n",
       "      <td>0.732</td>\n",
       "      <td>0.860</td>\n",
       "      <td>66.971725</td>\n",
       "    </tr>\n",
       "    <tr>\n",
       "      <th>1</th>\n",
       "      <td>3 Musketeers</td>\n",
       "      <td>Yes</td>\n",
       "      <td>No</td>\n",
       "      <td>No</td>\n",
       "      <td>No</td>\n",
       "      <td>Yes</td>\n",
       "      <td>No</td>\n",
       "      <td>No</td>\n",
       "      <td>Yes</td>\n",
       "      <td>No</td>\n",
       "      <td>0.604</td>\n",
       "      <td>0.511</td>\n",
       "      <td>67.602936</td>\n",
       "    </tr>\n",
       "    <tr>\n",
       "      <th>2</th>\n",
       "      <td>Air Heads</td>\n",
       "      <td>No</td>\n",
       "      <td>Yes</td>\n",
       "      <td>No</td>\n",
       "      <td>No</td>\n",
       "      <td>No</td>\n",
       "      <td>No</td>\n",
       "      <td>No</td>\n",
       "      <td>No</td>\n",
       "      <td>No</td>\n",
       "      <td>0.906</td>\n",
       "      <td>0.511</td>\n",
       "      <td>52.341465</td>\n",
       "    </tr>\n",
       "    <tr>\n",
       "      <th>3</th>\n",
       "      <td>Almond Joy</td>\n",
       "      <td>Yes</td>\n",
       "      <td>No</td>\n",
       "      <td>No</td>\n",
       "      <td>Yes</td>\n",
       "      <td>No</td>\n",
       "      <td>No</td>\n",
       "      <td>No</td>\n",
       "      <td>Yes</td>\n",
       "      <td>No</td>\n",
       "      <td>0.465</td>\n",
       "      <td>0.767</td>\n",
       "      <td>50.347546</td>\n",
       "    </tr>\n",
       "    <tr>\n",
       "      <th>4</th>\n",
       "      <td>Baby Ruth</td>\n",
       "      <td>Yes</td>\n",
       "      <td>No</td>\n",
       "      <td>Yes</td>\n",
       "      <td>Yes</td>\n",
       "      <td>Yes</td>\n",
       "      <td>No</td>\n",
       "      <td>No</td>\n",
       "      <td>Yes</td>\n",
       "      <td>No</td>\n",
       "      <td>0.604</td>\n",
       "      <td>0.767</td>\n",
       "      <td>56.914547</td>\n",
       "    </tr>\n",
       "  </tbody>\n",
       "</table>\n",
       "</div>"
      ],
      "text/plain": [
       "   competitorname chocolate fruity caramel peanutyalmondy nougat  \\\n",
       "id                                                                 \n",
       "0       100 Grand       Yes     No     Yes             No     No   \n",
       "1    3 Musketeers       Yes     No      No             No    Yes   \n",
       "2       Air Heads        No    Yes      No             No     No   \n",
       "3      Almond Joy       Yes     No      No            Yes     No   \n",
       "4       Baby Ruth       Yes     No     Yes            Yes    Yes   \n",
       "\n",
       "   crispedricewafer hard  bar pluribus  sugarpercent  pricepercent  winpercent  \n",
       "id                                                                              \n",
       "0               Yes   No  Yes       No         0.732         0.860   66.971725  \n",
       "1                No   No  Yes       No         0.604         0.511   67.602936  \n",
       "2                No   No   No       No         0.906         0.511   52.341465  \n",
       "3                No   No  Yes       No         0.465         0.767   50.347546  \n",
       "4                No   No  Yes       No         0.604         0.767   56.914547  "
      ]
     },
     "execution_count": 5,
     "metadata": {},
     "output_type": "execute_result"
    }
   ],
   "source": [
    "# Print the first five rows of the data\n",
    "candy_data.head()"
   ]
  },
  {
   "cell_type": "markdown",
   "id": "2ef67137",
   "metadata": {
    "papermill": {
     "duration": 0.009977,
     "end_time": "2022-06-27T20:18:44.264534",
     "exception": false,
     "start_time": "2022-06-27T20:18:44.254557",
     "status": "completed"
    },
    "tags": []
   },
   "source": [
    "The dataset contains 83 rows, where each corresponds to a different candy bar.  There are 13 columns:\n",
    "- `'competitorname'` contains the name of the candy bar. \n",
    "- the next **9** columns (from `'chocolate'` to `'pluribus'`) describe the candy.  For instance, rows with chocolate candies have `\"Yes\"` in the `'chocolate'` column (and candies without chocolate have `\"No\"` in the same column).\n",
    "- `'sugarpercent'` provides some indication of the amount of sugar, where higher values signify higher sugar content.\n",
    "- `'pricepercent'` shows the price per unit, relative to the other candies in the dataset.\n",
    "- `'winpercent'` is calculated from the survey results; higher values indicate that the candy was more popular with survey respondents.\n",
    "\n",
    "Use the first five rows of the data to answer the questions below."
   ]
  },
  {
   "cell_type": "code",
   "execution_count": 6,
   "id": "5955150b",
   "metadata": {
    "execution": {
     "iopub.execute_input": "2022-06-27T20:18:44.286507Z",
     "iopub.status.busy": "2022-06-27T20:18:44.286123Z",
     "iopub.status.idle": "2022-06-27T20:18:44.295159Z",
     "shell.execute_reply": "2022-06-27T20:18:44.294103Z"
    },
    "papermill": {
     "duration": 0.022629,
     "end_time": "2022-06-27T20:18:44.297311",
     "exception": false,
     "start_time": "2022-06-27T20:18:44.274682",
     "status": "completed"
    },
    "tags": []
   },
   "outputs": [
    {
     "data": {
      "application/javascript": [
       "parent.postMessage({\"jupyterEvent\": \"custom.exercise_interaction\", \"data\": {\"outcomeType\": 1, \"valueTowardsCompletion\": 0.3333333333333333, \"interactionType\": 1, \"questionType\": 1, \"questionId\": \"2_ReviewData\", \"learnToolsVersion\": \"0.3.4\", \"failureMessage\": \"\", \"exceptionClass\": \"\", \"trace\": \"\"}}, \"*\")"
      ],
      "text/plain": [
       "<IPython.core.display.Javascript object>"
      ]
     },
     "metadata": {},
     "output_type": "display_data"
    },
    {
     "data": {
      "text/markdown": [
       "<span style=\"color:#33cc33\">Correct</span>"
      ],
      "text/plain": [
       "Correct"
      ]
     },
     "metadata": {},
     "output_type": "display_data"
    }
   ],
   "source": [
    "# Fill in the line below: Which candy was more popular with survey respondents:\n",
    "# '3 Musketeers' or 'Almond Joy'?  (Please enclose your answer in single quotes.)\n",
    "more_popular = '3 Musketeers'\n",
    "\n",
    "# Fill in the line below: Which candy has higher sugar content: 'Air Heads'\n",
    "# or 'Baby Ruth'? (Please enclose your answer in single quotes.)\n",
    "more_sugar = 'Air Heads'\n",
    "\n",
    "# Check your answers\n",
    "step_2.check()"
   ]
  },
  {
   "cell_type": "code",
   "execution_count": 7,
   "id": "63188971",
   "metadata": {
    "execution": {
     "iopub.execute_input": "2022-06-27T20:18:44.320442Z",
     "iopub.status.busy": "2022-06-27T20:18:44.319715Z",
     "iopub.status.idle": "2022-06-27T20:18:44.323386Z",
     "shell.execute_reply": "2022-06-27T20:18:44.322656Z"
    },
    "papermill": {
     "duration": 0.017594,
     "end_time": "2022-06-27T20:18:44.325274",
     "exception": false,
     "start_time": "2022-06-27T20:18:44.307680",
     "status": "completed"
    },
    "tags": []
   },
   "outputs": [],
   "source": [
    "# Lines below will give you a hint or solution code\n",
    "#step_2.hint()\n",
    "#step_2.solution()"
   ]
  },
  {
   "cell_type": "markdown",
   "id": "fe05728c",
   "metadata": {
    "papermill": {
     "duration": 0.010304,
     "end_time": "2022-06-27T20:18:44.346154",
     "exception": false,
     "start_time": "2022-06-27T20:18:44.335850",
     "status": "completed"
    },
    "tags": []
   },
   "source": [
    "## Step 3: The role of sugar\n",
    "\n",
    "Do people tend to prefer candies with higher sugar content?  \n",
    "\n",
    "#### Part A\n",
    "\n",
    "Create a scatter plot that shows the relationship between `'sugarpercent'` (on the horizontal x-axis) and `'winpercent'` (on the vertical y-axis).  _Don't add a regression line just yet -- you'll do that in the next step!_"
   ]
  },
  {
   "cell_type": "code",
   "execution_count": 8,
   "id": "4ac088ed",
   "metadata": {
    "execution": {
     "iopub.execute_input": "2022-06-27T20:18:44.369256Z",
     "iopub.status.busy": "2022-06-27T20:18:44.368483Z",
     "iopub.status.idle": "2022-06-27T20:18:44.612206Z",
     "shell.execute_reply": "2022-06-27T20:18:44.610593Z"
    },
    "papermill": {
     "duration": 0.258071,
     "end_time": "2022-06-27T20:18:44.614730",
     "exception": false,
     "start_time": "2022-06-27T20:18:44.356659",
     "status": "completed"
    },
    "tags": []
   },
   "outputs": [
    {
     "data": {
      "application/javascript": [
       "parent.postMessage({\"jupyterEvent\": \"custom.exercise_interaction\", \"data\": {\"outcomeType\": 1, \"valueTowardsCompletion\": 0.3333333333333333, \"interactionType\": 1, \"questionType\": 2, \"questionId\": \"3.1_PlotBlueScatter\", \"learnToolsVersion\": \"0.3.4\", \"failureMessage\": \"\", \"exceptionClass\": \"\", \"trace\": \"\"}}, \"*\")"
      ],
      "text/plain": [
       "<IPython.core.display.Javascript object>"
      ]
     },
     "metadata": {},
     "output_type": "display_data"
    },
    {
     "data": {
      "text/markdown": [
       "<span style=\"color:#33cc33\">Correct</span>"
      ],
      "text/plain": [
       "Correct"
      ]
     },
     "metadata": {},
     "output_type": "display_data"
    },
    {
     "data": {
      "image/png": "[encoded data removed]",
      "text/plain": [
       "<Figure size 432x288 with 1 Axes>"
      ]
     },
     "metadata": {
      "needs_background": "light"
     },
     "output_type": "display_data"
    }
   ],
   "source": [
    "# Scatter plot showing the relationship between 'sugarpercent' and 'winpercent'\n",
    "sns.scatterplot(x=\"sugarpercent\",y=\"winpercent\",data=candy_data)\n",
    "\n",
    "# Check your answer\n",
    "step_3.a.check()"
   ]
  },
  {
   "cell_type": "code",
   "execution_count": 9,
   "id": "ab5d926a",
   "metadata": {
    "execution": {
     "iopub.execute_input": "2022-06-27T20:18:44.638760Z",
     "iopub.status.busy": "2022-06-27T20:18:44.638381Z",
     "iopub.status.idle": "2022-06-27T20:18:44.642948Z",
     "shell.execute_reply": "2022-06-27T20:18:44.641889Z"
    },
    "papermill": {
     "duration": 0.019345,
     "end_time": "2022-06-27T20:18:44.645234",
     "exception": false,
     "start_time": "2022-06-27T20:18:44.625889",
     "status": "completed"
    },
    "tags": []
   },
   "outputs": [],
   "source": [
    "# Lines below will give you a hint or solution code\n",
    "#step_3.a.hint()\n",
    "#step_3.a.solution_plot()"
   ]
  },
  {
   "cell_type": "markdown",
   "id": "1f3064ac",
   "metadata": {
    "papermill": {
     "duration": 0.010701,
     "end_time": "2022-06-27T20:18:44.667069",
     "exception": false,
     "start_time": "2022-06-27T20:18:44.656368",
     "status": "completed"
    },
    "tags": []
   },
   "source": [
    "#### Part B\n",
    "\n",
    "Does the scatter plot show a **strong** correlation between the two variables?  If so, are candies with more sugar relatively more or less popular with the survey respondents?"
   ]
  },
  {
   "cell_type": "code",
   "execution_count": 10,
   "id": "0c8695fd",
   "metadata": {
    "execution": {
     "iopub.execute_input": "2022-06-27T20:18:44.691083Z",
     "iopub.status.busy": "2022-06-27T20:18:44.690408Z",
     "iopub.status.idle": "2022-06-27T20:18:44.694411Z",
     "shell.execute_reply": "2022-06-27T20:18:44.693682Z"
    },
    "papermill": {
     "duration": 0.018186,
     "end_time": "2022-06-27T20:18:44.696353",
     "exception": false,
     "start_time": "2022-06-27T20:18:44.678167",
     "status": "completed"
    },
    "tags": []
   },
   "outputs": [],
   "source": [
    "#step_3.b.hint()"
   ]
  },
  {
   "cell_type": "code",
   "execution_count": 11,
   "id": "cfb78a25",
   "metadata": {
    "execution": {
     "iopub.execute_input": "2022-06-27T20:18:44.720766Z",
     "iopub.status.busy": "2022-06-27T20:18:44.720123Z",
     "iopub.status.idle": "2022-06-27T20:18:44.727101Z",
     "shell.execute_reply": "2022-06-27T20:18:44.726206Z"
    },
    "papermill": {
     "duration": 0.021764,
     "end_time": "2022-06-27T20:18:44.729223",
     "exception": false,
     "start_time": "2022-06-27T20:18:44.707459",
     "status": "completed"
    },
    "tags": []
   },
   "outputs": [
    {
     "data": {
      "application/javascript": [
       "parent.postMessage({\"jupyterEvent\": \"custom.exercise_interaction\", \"data\": {\"interactionType\": 3, \"questionType\": 4, \"questionId\": \"3.2_ThinkBlueScatter\", \"learnToolsVersion\": \"0.3.4\", \"valueTowardsCompletion\": 0.0, \"failureMessage\": \"\", \"exceptionClass\": \"\", \"trace\": \"\", \"outcomeType\": 4}}, \"*\")"
      ],
      "text/plain": [
       "<IPython.core.display.Javascript object>"
      ]
     },
     "metadata": {},
     "output_type": "display_data"
    },
    {
     "data": {
      "text/markdown": [
       "<span style=\"color:#33cc99\">Solution:</span> The scatter plot does not show a strong correlation between the two variables. Since there is no clear relationship between the two variables, this tells us that sugar content does not play a strong role in candy popularity."
      ],
      "text/plain": [
       "Solution: The scatter plot does not show a strong correlation between the two variables. Since there is no clear relationship between the two variables, this tells us that sugar content does not play a strong role in candy popularity."
      ]
     },
     "metadata": {},
     "output_type": "display_data"
    }
   ],
   "source": [
    "# Check your answer (Run this code cell to receive credit!)\n",
    "step_3.b.solution()"
   ]
  },
  {
   "cell_type": "markdown",
   "id": "c97d63e2",
   "metadata": {
    "papermill": {
     "duration": 0.011659,
     "end_time": "2022-06-27T20:18:44.752302",
     "exception": false,
     "start_time": "2022-06-27T20:18:44.740643",
     "status": "completed"
    },
    "tags": []
   },
   "source": [
    "## Step 4: Take a closer look\n",
    "\n",
    "#### Part A\n",
    "\n",
    "Create the same scatter plot you created in **Step 3**, but now with a regression line!"
   ]
  },
  {
   "cell_type": "code",
   "execution_count": 12,
   "id": "36984bf0",
   "metadata": {
    "execution": {
     "iopub.execute_input": "2022-06-27T20:18:44.777154Z",
     "iopub.status.busy": "2022-06-27T20:18:44.776443Z",
     "iopub.status.idle": "2022-06-27T20:18:45.080126Z",
     "shell.execute_reply": "2022-06-27T20:18:45.078975Z"
    },
    "papermill": {
     "duration": 0.319122,
     "end_time": "2022-06-27T20:18:45.082876",
     "exception": false,
     "start_time": "2022-06-27T20:18:44.763754",
     "status": "completed"
    },
    "tags": []
   },
   "outputs": [
    {
     "data": {
      "application/javascript": [
       "parent.postMessage({\"jupyterEvent\": \"custom.exercise_interaction\", \"data\": {\"outcomeType\": 1, \"valueTowardsCompletion\": 0.3333333333333333, \"interactionType\": 1, \"questionType\": 2, \"questionId\": \"4.1_PlotBlueReg\", \"learnToolsVersion\": \"0.3.4\", \"failureMessage\": \"\", \"exceptionClass\": \"\", \"trace\": \"\"}}, \"*\")"
      ],
      "text/plain": [
       "<IPython.core.display.Javascript object>"
      ]
     },
     "metadata": {},
     "output_type": "display_data"
    },
    {
     "data": {
      "text/markdown": [
       "<span style=\"color:#33cc33\">Correct</span>"
      ],
      "text/plain": [
       "Correct"
      ]
     },
     "metadata": {},
     "output_type": "display_data"
    },
    {
     "data": {
      "image/png": "[encoded data removed]",
      "text/plain": [
       "<Figure size 432x288 with 1 Axes>"
      ]
     },
     "metadata": {
      "needs_background": "light"
     },
     "output_type": "display_data"
    }
   ],
   "source": [
    "# Scatter plot w/ regression line showing the relationship between 'sugarpercent' and 'winpercent'\n",
    "sns.regplot(x=\"sugarpercent\",y=\"winpercent\",data=candy_data)\n",
    "\n",
    "# Check your answer\n",
    "step_4.a.check()"
   ]
  },
  {
   "cell_type": "code",
   "execution_count": 13,
   "id": "fdce59cb",
   "metadata": {
    "execution": {
     "iopub.execute_input": "2022-06-27T20:18:45.109611Z",
     "iopub.status.busy": "2022-06-27T20:18:45.108461Z",
     "iopub.status.idle": "2022-06-27T20:18:45.113782Z",
     "shell.execute_reply": "2022-06-27T20:18:45.112742Z"
    },
    "papermill": {
     "duration": 0.020747,
     "end_time": "2022-06-27T20:18:45.115995",
     "exception": false,
     "start_time": "2022-06-27T20:18:45.095248",
     "status": "completed"
    },
    "tags": []
   },
   "outputs": [],
   "source": [
    "# Lines below will give you a hint or solution code\n",
    "#step_4.a.hint()\n",
    "#step_4.a.solution_plot()"
   ]
  },
  {
   "cell_type": "markdown",
   "id": "51a2bb3c",
   "metadata": {
    "papermill": {
     "duration": 0.011545,
     "end_time": "2022-06-27T20:18:45.139618",
     "exception": false,
     "start_time": "2022-06-27T20:18:45.128073",
     "status": "completed"
    },
    "tags": []
   },
   "source": [
    "#### Part B\n",
    "\n",
    "According to the plot above, is there a **slight** correlation between `'winpercent'` and `'sugarpercent'`?  What does this tell you about the candy that people tend to prefer?"
   ]
  },
  {
   "cell_type": "code",
   "execution_count": 14,
   "id": "7978791d",
   "metadata": {
    "execution": {
     "iopub.execute_input": "2022-06-27T20:18:45.165672Z",
     "iopub.status.busy": "2022-06-27T20:18:45.164846Z",
     "iopub.status.idle": "2022-06-27T20:18:45.169484Z",
     "shell.execute_reply": "2022-06-27T20:18:45.168729Z"
    },
    "papermill": {
     "duration": 0.020137,
     "end_time": "2022-06-27T20:18:45.171657",
     "exception": false,
     "start_time": "2022-06-27T20:18:45.151520",
     "status": "completed"
    },
    "tags": []
   },
   "outputs": [],
   "source": [
    "#step_4.b.hint()"
   ]
  },
  {
   "cell_type": "code",
   "execution_count": 15,
   "id": "1ac57c2d",
   "metadata": {
    "execution": {
     "iopub.execute_input": "2022-06-27T20:18:45.197516Z",
     "iopub.status.busy": "2022-06-27T20:18:45.196722Z",
     "iopub.status.idle": "2022-06-27T20:18:45.205804Z",
     "shell.execute_reply": "2022-06-27T20:18:45.204652Z"
    },
    "papermill": {
     "duration": 0.024527,
     "end_time": "2022-06-27T20:18:45.208082",
     "exception": false,
     "start_time": "2022-06-27T20:18:45.183555",
     "status": "completed"
    },
    "tags": []
   },
   "outputs": [
    {
     "data": {
      "application/javascript": [
       "parent.postMessage({\"jupyterEvent\": \"custom.exercise_interaction\", \"data\": {\"interactionType\": 3, \"questionType\": 4, \"questionId\": \"4.2_ThinkBlueReg\", \"learnToolsVersion\": \"0.3.4\", \"valueTowardsCompletion\": 0.0, \"failureMessage\": \"\", \"exceptionClass\": \"\", \"trace\": \"\", \"outcomeType\": 4}}, \"*\")"
      ],
      "text/plain": [
       "<IPython.core.display.Javascript object>"
      ]
     },
     "metadata": {},
     "output_type": "display_data"
    },
    {
     "data": {
      "text/markdown": [
       "<span style=\"color:#33cc99\">Solution:</span> Since the regression line has a slightly positive slope, this tells us that there is a slightly positive correlation between `'winpercent'` and `'sugarpercent'`. Thus, people have a slight preference for candies containing relatively more sugar."
      ],
      "text/plain": [
       "Solution: Since the regression line has a slightly positive slope, this tells us that there is a slightly positive correlation between `'winpercent'` and `'sugarpercent'`. Thus, people have a slight preference for candies containing relatively more sugar."
      ]
     },
     "metadata": {},
     "output_type": "display_data"
    }
   ],
   "source": [
    "# Check your answer (Run this code cell to receive credit!)\n",
    "step_4.b.solution()"
   ]
  },
  {
   "cell_type": "markdown",
   "id": "641cf40e",
   "metadata": {
    "papermill": {
     "duration": 0.012084,
     "end_time": "2022-06-27T20:18:45.232465",
     "exception": false,
     "start_time": "2022-06-27T20:18:45.220381",
     "status": "completed"
    },
    "tags": []
   },
   "source": [
    "## Step 5: Chocolate!\n",
    "\n",
    "In the code cell below, create a scatter plot to show the relationship between `'pricepercent'` (on the horizontal x-axis) and `'winpercent'` (on the vertical y-axis). Use the `'chocolate'` column to color-code the points.  _Don't add any regression lines just yet -- you'll do that in the next step!_"
   ]
  },
  {
   "cell_type": "code",
   "execution_count": 16,
   "id": "cc039955",
   "metadata": {
    "execution": {
     "iopub.execute_input": "2022-06-27T20:18:45.259611Z",
     "iopub.status.busy": "2022-06-27T20:18:45.258858Z",
     "iopub.status.idle": "2022-06-27T20:18:45.478195Z",
     "shell.execute_reply": "2022-06-27T20:18:45.476994Z"
    },
    "papermill": {
     "duration": 0.235742,
     "end_time": "2022-06-27T20:18:45.480687",
     "exception": false,
     "start_time": "2022-06-27T20:18:45.244945",
     "status": "completed"
    },
    "tags": []
   },
   "outputs": [
    {
     "data": {
      "application/javascript": [
       "parent.postMessage({\"jupyterEvent\": \"custom.exercise_interaction\", \"data\": {\"outcomeType\": 1, \"valueTowardsCompletion\": 0.3333333333333333, \"interactionType\": 1, \"questionType\": 2, \"questionId\": \"5_ColorScatter\", \"learnToolsVersion\": \"0.3.4\", \"failureMessage\": \"\", \"exceptionClass\": \"\", \"trace\": \"\"}}, \"*\")"
      ],
      "text/plain": [
       "<IPython.core.display.Javascript object>"
      ]
     },
     "metadata": {},
     "output_type": "display_data"
    },
    {
     "data": {
      "text/markdown": [
       "<span style=\"color:#33cc33\">Correct</span>"
      ],
      "text/plain": [
       "Correct"
      ]
     },
     "metadata": {},
     "output_type": "display_data"
    },
    {
     "data": {
      "image/png": "[encoded data removed]",
      "text/plain": [
       "<Figure size 432x288 with 1 Axes>"
      ]
     },
     "metadata": {
      "needs_background": "light"
     },
     "output_type": "display_data"
    }
   ],
   "source": [
    "# Scatter plot showing the relationship between 'pricepercent', 'winpercent', and 'chocolate'\n",
    "sns.scatterplot(x=\"pricepercent\",y=\"winpercent\",hue=\"chocolate\",data=candy_data)\n",
    "\n",
    "# Check your answer\n",
    "step_5.check()"
   ]
  },
  {
   "cell_type": "code",
   "execution_count": 17,
   "id": "488352cf",
   "metadata": {
    "execution": {
     "iopub.execute_input": "2022-06-27T20:18:45.508170Z",
     "iopub.status.busy": "2022-06-27T20:18:45.507799Z",
     "iopub.status.idle": "2022-06-27T20:18:45.512128Z",
     "shell.execute_reply": "2022-06-27T20:18:45.511004Z"
    },
    "papermill": {
     "duration": 0.020725,
     "end_time": "2022-06-27T20:18:45.514302",
     "exception": false,
     "start_time": "2022-06-27T20:18:45.493577",
     "status": "completed"
    },
    "tags": []
   },
   "outputs": [],
   "source": [
    "# Lines below will give you a hint or solution code\n",
    "#step_5.hint()\n",
    "#step_5.solution_plot()"
   ]
  },
  {
   "cell_type": "markdown",
   "id": "91d2755e",
   "metadata": {
    "papermill": {
     "duration": 0.012643,
     "end_time": "2022-06-27T20:18:45.539882",
     "exception": false,
     "start_time": "2022-06-27T20:18:45.527239",
     "status": "completed"
    },
    "tags": []
   },
   "source": [
    "Can you see any interesting patterns in the scatter plot?  We'll investigate this plot further  by adding regression lines in the next step!\n",
    "\n",
    "## Step 6: Investigate chocolate\n",
    "\n",
    "#### Part A\n",
    "\n",
    "Create the same scatter plot you created in **Step 5**, but now with two regression lines, corresponding to (1) chocolate candies and (2) candies without chocolate."
   ]
  },
  {
   "cell_type": "code",
   "execution_count": 18,
   "id": "df021a1a",
   "metadata": {
    "execution": {
     "iopub.execute_input": "2022-06-27T20:18:45.567149Z",
     "iopub.status.busy": "2022-06-27T20:18:45.566771Z",
     "iopub.status.idle": "2022-06-27T20:18:46.109314Z",
     "shell.execute_reply": "2022-06-27T20:18:46.108475Z"
    },
    "papermill": {
     "duration": 0.558597,
     "end_time": "2022-06-27T20:18:46.111334",
     "exception": false,
     "start_time": "2022-06-27T20:18:45.552737",
     "status": "completed"
    },
    "tags": []
   },
   "outputs": [
    {
     "data": {
      "application/javascript": [
       "parent.postMessage({\"jupyterEvent\": \"custom.exercise_interaction\", \"data\": {\"outcomeType\": 1, \"valueTowardsCompletion\": 0.3333333333333333, \"interactionType\": 1, \"questionType\": 2, \"questionId\": \"6.1_PlotColorReg\", \"learnToolsVersion\": \"0.3.4\", \"failureMessage\": \"\", \"exceptionClass\": \"\", \"trace\": \"\"}}, \"*\")"
      ],
      "text/plain": [
       "<IPython.core.display.Javascript object>"
      ]
     },
     "metadata": {},
     "output_type": "display_data"
    },
    {
     "data": {
      "text/markdown": [
       "<span style=\"color:#33cc33\">Correct</span>"
      ],
      "text/plain": [
       "Correct"
      ]
     },
     "metadata": {},
     "output_type": "display_data"
    },
    {
     "data": {
      "image/png": "[encoded data removed]",
      "text/plain": [
       "<Figure size 416.375x360 with 1 Axes>"
      ]
     },
     "metadata": {
      "needs_background": "light"
     },
     "output_type": "display_data"
    }
   ],
   "source": [
    "# Color-coded scatter plot w/ regression lines\n",
    "sns.lmplot(x=\"pricepercent\",y=\"winpercent\",hue=\"chocolate\",data=candy_data)\n",
    "\n",
    "# Check your answer\n",
    "step_6.a.check()"
   ]
  },
  {
   "cell_type": "code",
   "execution_count": 19,
   "id": "9cdce09b",
   "metadata": {
    "execution": {
     "iopub.execute_input": "2022-06-27T20:18:46.141130Z",
     "iopub.status.busy": "2022-06-27T20:18:46.140704Z",
     "iopub.status.idle": "2022-06-27T20:18:46.144808Z",
     "shell.execute_reply": "2022-06-27T20:18:46.143968Z"
    },
    "papermill": {
     "duration": 0.021504,
     "end_time": "2022-06-27T20:18:46.146759",
     "exception": false,
     "start_time": "2022-06-27T20:18:46.125255",
     "status": "completed"
    },
    "tags": []
   },
   "outputs": [],
   "source": [
    "# Lines below will give you a hint or solution code\n",
    "#step_6.a.hint()\n",
    "#step_6.a.solution_plot()"
   ]
  },
  {
   "cell_type": "markdown",
   "id": "ce86b0de",
   "metadata": {
    "papermill": {
     "duration": 0.013965,
     "end_time": "2022-06-27T20:18:46.174666",
     "exception": false,
     "start_time": "2022-06-27T20:18:46.160701",
     "status": "completed"
    },
    "tags": []
   },
   "source": [
    "#### Part B\n",
    "\n",
    "Using the regression lines, what conclusions can you draw about the effects of chocolate and price on candy popularity?"
   ]
  },
  {
   "cell_type": "code",
   "execution_count": 20,
   "id": "ce7d86d9",
   "metadata": {
    "execution": {
     "iopub.execute_input": "2022-06-27T20:18:46.205730Z",
     "iopub.status.busy": "2022-06-27T20:18:46.204569Z",
     "iopub.status.idle": "2022-06-27T20:18:46.210173Z",
     "shell.execute_reply": "2022-06-27T20:18:46.209350Z"
    },
    "papermill": {
     "duration": 0.023428,
     "end_time": "2022-06-27T20:18:46.212768",
     "exception": false,
     "start_time": "2022-06-27T20:18:46.189340",
     "status": "completed"
    },
    "tags": []
   },
   "outputs": [],
   "source": [
    "#step_6.b.hint()"
   ]
  },
  {
   "cell_type": "code",
   "execution_count": 21,
   "id": "8987073a",
   "metadata": {
    "execution": {
     "iopub.execute_input": "2022-06-27T20:18:46.243415Z",
     "iopub.status.busy": "2022-06-27T20:18:46.242707Z",
     "iopub.status.idle": "2022-06-27T20:18:46.252359Z",
     "shell.execute_reply": "2022-06-27T20:18:46.251116Z"
    },
    "papermill": {
     "duration": 0.02724,
     "end_time": "2022-06-27T20:18:46.254556",
     "exception": false,
     "start_time": "2022-06-27T20:18:46.227316",
     "status": "completed"
    },
    "tags": []
   },
   "outputs": [
    {
     "data": {
      "application/javascript": [
       "parent.postMessage({\"jupyterEvent\": \"custom.exercise_interaction\", \"data\": {\"interactionType\": 3, \"questionType\": 4, \"questionId\": \"6.2_ThinkColorReg\", \"learnToolsVersion\": \"0.3.4\", \"valueTowardsCompletion\": 0.0, \"failureMessage\": \"\", \"exceptionClass\": \"\", \"trace\": \"\", \"outcomeType\": 4}}, \"*\")"
      ],
      "text/plain": [
       "<IPython.core.display.Javascript object>"
      ]
     },
     "metadata": {},
     "output_type": "display_data"
    },
    {
     "data": {
      "text/markdown": [
       "<span style=\"color:#33cc99\">Solution:</span> We'll begin with the regression line for chocolate candies. Since this line has a slightly positive slope, we can say that more expensive chocolate candies tend to be more popular (than relatively cheaper chocolate candies).  Likewise, since the regression line for candies without chocolate has a negative slope, we can say that if candies don't contain chocolate, they tend to be more popular when they are cheaper.  One important note, however, is that the dataset is quite small -- so we shouldn't invest too much trust in these patterns!  To inspire more confidence in the results, we should add more candies to the dataset."
      ],
      "text/plain": [
       "Solution: We'll begin with the regression line for chocolate candies. Since this line has a slightly positive slope, we can say that more expensive chocolate candies tend to be more popular (than relatively cheaper chocolate candies).  Likewise, since the regression line for candies without chocolate has a negative slope, we can say that if candies don't contain chocolate, they tend to be more popular when they are cheaper.  One important note, however, is that the dataset is quite small -- so we shouldn't invest too much trust in these patterns!  To inspire more confidence in the results, we should add more candies to the dataset."
      ]
     },
     "metadata": {},
     "output_type": "display_data"
    }
   ],
   "source": [
    "# Check your answer (Run this code cell to receive credit!)\n",
    "step_6.b.solution()"
   ]
  },
  {
   "cell_type": "markdown",
   "id": "2472ac0e",
   "metadata": {
    "papermill": {
     "duration": 0.014059,
     "end_time": "2022-06-27T20:18:46.283178",
     "exception": false,
     "start_time": "2022-06-27T20:18:46.269119",
     "status": "completed"
    },
    "tags": []
   },
   "source": [
    "## Step 7: Everybody loves chocolate.\n",
    "\n",
    "#### Part A\n",
    "\n",
    "Create a categorical scatter plot to highlight the relationship between `'chocolate'` and `'winpercent'`.  Put `'chocolate'` on the (horizontal) x-axis, and `'winpercent'` on the (vertical) y-axis."
   ]
  },
  {
   "cell_type": "code",
   "execution_count": 22,
   "id": "381c8891",
   "metadata": {
    "execution": {
     "iopub.execute_input": "2022-06-27T20:18:46.313411Z",
     "iopub.status.busy": "2022-06-27T20:18:46.313025Z",
     "iopub.status.idle": "2022-06-27T20:18:46.495304Z",
     "shell.execute_reply": "2022-06-27T20:18:46.494151Z"
    },
    "papermill": {
     "duration": 0.200242,
     "end_time": "2022-06-27T20:18:46.497658",
     "exception": false,
     "start_time": "2022-06-27T20:18:46.297416",
     "status": "completed"
    },
    "tags": []
   },
   "outputs": [
    {
     "data": {
      "application/javascript": [
       "parent.postMessage({\"jupyterEvent\": \"custom.exercise_interaction\", \"data\": {\"outcomeType\": 1, \"valueTowardsCompletion\": 0.3333333333333333, \"interactionType\": 1, \"questionType\": 2, \"questionId\": \"7.1_PlotSwarm\", \"learnToolsVersion\": \"0.3.4\", \"failureMessage\": \"\", \"exceptionClass\": \"\", \"trace\": \"\"}}, \"*\")"
      ],
      "text/plain": [
       "<IPython.core.display.Javascript object>"
      ]
     },
     "metadata": {},
     "output_type": "display_data"
    },
    {
     "data": {
      "text/markdown": [
       "<span style=\"color:#33cc33\">Correct</span>"
      ],
      "text/plain": [
       "Correct"
      ]
     },
     "metadata": {},
     "output_type": "display_data"
    },
    {
     "data": {
      "image/png": "[encoded data removed]",
      "text/plain": [
       "<Figure size 432x288 with 1 Axes>"
      ]
     },
     "metadata": {
      "needs_background": "light"
     },
     "output_type": "display_data"
    }
   ],
   "source": [
    "# Scatter plot showing the relationship between 'chocolate' and 'winpercent'\n",
    "sns.swarmplot(x=\"chocolate\",y=\"winpercent\",data=candy_data)\n",
    "\n",
    "# Check your answer\n",
    "step_7.a.check()"
   ]
  },
  {
   "cell_type": "code",
   "execution_count": 23,
   "id": "e0afcefa",
   "metadata": {
    "execution": {
     "iopub.execute_input": "2022-06-27T20:18:46.529290Z",
     "iopub.status.busy": "2022-06-27T20:18:46.528650Z",
     "iopub.status.idle": "2022-06-27T20:18:46.532375Z",
     "shell.execute_reply": "2022-06-27T20:18:46.531478Z"
    },
    "papermill": {
     "duration": 0.022139,
     "end_time": "2022-06-27T20:18:46.534590",
     "exception": false,
     "start_time": "2022-06-27T20:18:46.512451",
     "status": "completed"
    },
    "tags": []
   },
   "outputs": [],
   "source": [
    "# Lines below will give you a hint or solution code\n",
    "#step_7.a.hint()\n",
    "#step_7.a.solution_plot()"
   ]
  },
  {
   "cell_type": "markdown",
   "id": "307fd9d0",
   "metadata": {
    "papermill": {
     "duration": 0.014458,
     "end_time": "2022-06-27T20:18:46.563861",
     "exception": false,
     "start_time": "2022-06-27T20:18:46.549403",
     "status": "completed"
    },
    "tags": []
   },
   "source": [
    "#### Part B\n",
    "\n",
    "You decide to dedicate a section of your report to the fact that chocolate candies tend to be more popular than candies without chocolate.  Which plot is more appropriate to tell this story: the plot from **Step 6**, or the plot from **Step 7**?"
   ]
  },
  {
   "cell_type": "code",
   "execution_count": 24,
   "id": "27f224b3",
   "metadata": {
    "execution": {
     "iopub.execute_input": "2022-06-27T20:18:46.595558Z",
     "iopub.status.busy": "2022-06-27T20:18:46.594466Z",
     "iopub.status.idle": "2022-06-27T20:18:46.599133Z",
     "shell.execute_reply": "2022-06-27T20:18:46.598395Z"
    },
    "papermill": {
     "duration": 0.022702,
     "end_time": "2022-06-27T20:18:46.601213",
     "exception": false,
     "start_time": "2022-06-27T20:18:46.578511",
     "status": "completed"
    },
    "tags": []
   },
   "outputs": [],
   "source": [
    "#step_7.b.hint()"
   ]
  },
  {
   "cell_type": "code",
   "execution_count": 25,
   "id": "e7234c8c",
   "metadata": {
    "execution": {
     "iopub.execute_input": "2022-06-27T20:18:46.634933Z",
     "iopub.status.busy": "2022-06-27T20:18:46.633678Z",
     "iopub.status.idle": "2022-06-27T20:18:46.643469Z",
     "shell.execute_reply": "2022-06-27T20:18:46.642591Z"
    },
    "papermill": {
     "duration": 0.029446,
     "end_time": "2022-06-27T20:18:46.645753",
     "exception": false,
     "start_time": "2022-06-27T20:18:46.616307",
     "status": "completed"
    },
    "tags": []
   },
   "outputs": [
    {
     "data": {
      "application/javascript": [
       "parent.postMessage({\"jupyterEvent\": \"custom.exercise_interaction\", \"data\": {\"interactionType\": 3, \"questionType\": 4, \"questionId\": \"7.2_ThinkSwarm\", \"learnToolsVersion\": \"0.3.4\", \"valueTowardsCompletion\": 0.0, \"failureMessage\": \"\", \"exceptionClass\": \"\", \"trace\": \"\", \"outcomeType\": 4}}, \"*\")"
      ],
      "text/plain": [
       "<IPython.core.display.Javascript object>"
      ]
     },
     "metadata": {},
     "output_type": "display_data"
    },
    {
     "data": {
      "text/markdown": [
       "<span style=\"color:#33cc99\">Solution:</span> In this case, the categorical scatter plot from **Step 7** is the more appropriate plot. While both plots tell the desired story, the plot from **Step 6** conveys far more information that could distract from the main point."
      ],
      "text/plain": [
       "Solution: In this case, the categorical scatter plot from **Step 7** is the more appropriate plot. While both plots tell the desired story, the plot from **Step 6** conveys far more information that could distract from the main point."
      ]
     },
     "metadata": {},
     "output_type": "display_data"
    }
   ],
   "source": [
    "# Check your answer (Run this code cell to receive credit!)\n",
    "step_7.b.solution()"
   ]
  },
  {
   "cell_type": "markdown",
   "id": "3eef32c5",
   "metadata": {
    "papermill": {
     "duration": 0.014786,
     "end_time": "2022-06-27T20:18:46.675686",
     "exception": false,
     "start_time": "2022-06-27T20:18:46.660900",
     "status": "completed"
    },
    "tags": []
   },
   "source": [
    "## Keep going\n",
    "\n",
    "Explore **[histograms and density plots](https://www.kaggle.com/alexisbcook/distributions)**."
   ]
  },
  {
   "cell_type": "markdown",
   "id": "298cdab1",
   "metadata": {
    "papermill": {
     "duration": 0.014813,
     "end_time": "2022-06-27T20:18:46.705605",
     "exception": false,
     "start_time": "2022-06-27T20:18:46.690792",
     "status": "completed"
    },
    "tags": []
   },
   "source": [
    "---\n",
    "\n",
    "\n",
    "\n",
    "\n",
    "*Have questions or comments? Visit the [course discussion forum](https://www.kaggle.com/learn/data-visualization/discussion) to chat with other learners.*"
   ]
  }
 ],
 "metadata": {
  "kernelspec": {
   "display_name": "Python 3",
   "language": "python",
   "name": "python3"
  },
  "language_info": {
   "codemirror_mode": {
    "name": "ipython",
    "version": 3
   },
   "file_extension": ".py",
   "mimetype": "text/x-python",
   "name": "python",
   "nbconvert_exporter": "python",
   "pygments_lexer": "ipython3",
   "version": "3.7.12"
  },
  "papermill": {
   "default_parameters": {},
   "duration": 14.569472,
   "end_time": "2022-06-27T20:18:47.442347",
   "environment_variables": {},
   "exception": null,
   "input_path": "__notebook__.ipynb",
   "output_path": "__notebook__.ipynb",
   "parameters": {},
   "start_time": "2022-06-27T20:18:32.872875",
   "version": "2.3.4"
  }
 },
 "nbformat": 4,
 "nbformat_minor": 5
}
